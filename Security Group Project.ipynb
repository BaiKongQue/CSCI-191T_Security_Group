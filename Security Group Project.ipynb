{
 "cells": [
  {
   "cell_type": "markdown",
   "metadata": {},
   "source": [
    "# Imports"
   ]
  },
  {
   "cell_type": "code",
   "execution_count": 1,
   "metadata": {
    "scrolled": true
   },
   "outputs": [],
   "source": [
    "from sklearn.neighbors import LocalOutlierFactor # not used\n",
    "from sklearn.neighbors import KNeighborsClassifier\n",
    "from sklearn.cluster import KMeans\n",
    "from sklearn.model_selection import train_test_split\n",
    "from sklearn import preprocessing\n",
    "from sklearn import metrics\n",
    "from sklearn import tree\n",
    "from scipy.io import arff\n",
    "from scipy.spatial.distance import cdist\n",
    "from mpl_toolkits.mplot3d import Axes3D\n",
    "import pandas as pd\n",
    "import matplotlib.pyplot as plt\n",
    "import numpy as np\n",
    "import seaborn as sns\n",
    "import struct # not used\n",
    "import graphviz"
   ]
  },
  {
   "cell_type": "markdown",
   "metadata": {},
   "source": [
    "# Definitions"
   ]
  },
  {
   "cell_type": "code",
   "execution_count": 2,
   "metadata": {
    "scrolled": true
   },
   "outputs": [],
   "source": [
    "def k_mean(K, dataset, title=\"K-Mean Cluster Plot\", xLabel=None, yLabel=None):\n",
    "    \"\"\"\n",
    "    Performs K clusters with K-mean on the given dataset and shows the scatter plot afterwards.\n",
    "    \n",
    "    @param int K: number of clusters\n",
    "    @param DataFrame dataset: dataframe of the data to perform k-mean on\n",
    "    @param str title: what the title of the plot is.\n",
    "    \"\"\"\n",
    "    k_model = KMeans(n_clusters=K)       # get new kmean model with number of clusters = K\n",
    "    k_model.fit(dataset)                 # fit the data set with the model\n",
    "    y_pred = k_model.predict(dataset)    # get y predictor from the dataset\n",
    "    centroids = k_model.cluster_centers_ # get the centroids\n",
    "    for i in centroids:\n",
    "        print(i)\n",
    "    \n",
    "    %matplotlib inline\n",
    "    plt.rcParams.update({'font.size': 20})\n",
    "#     plt.figure(figsize=(5,5))                                                       # set figure size to (12,12)\n",
    "    plt.scatter(dataset.iloc[:,0], dataset.iloc[:,1], marker='o', alpha=1, c=y_pred)  # scatter data points\n",
    "    plt.scatter(centroids[:,0], centroids[:,1], marker='x', s=200, linewidths=2)      # scatter centoids\n",
    "    plt.xlabel(dataset.columns.values[0] if xLabel==None else xLabel)                 # set x-axis label\n",
    "    plt.ylabel(dataset.columns.values[1] if yLabel==None else yLabel)                 # set y-axis label\n",
    "    plt.title(title)                                                                  # set title\n",
    "    plt.show()                                                                        # show plot"
   ]
  },
  {
   "cell_type": "code",
   "execution_count": null,
   "metadata": {
    "scrolled": true
   },
   "outputs": [],
   "source": [
    "def k_mean3D(K, dataset, title=\"K-Mean Cluster 3D Plot\", xLabel=None, yLabel=None, zLabel=None):\n",
    "    fig = plt.figure(figsize=(12, 12))\n",
    "    ax = fig.add_subplot(111, projection='3d')\n",
    "    \n",
    "    k_model = KMeans(n_clusters=K)\n",
    "    k_model.fit(dataset)\n",
    "    y_pred = k_model.predict(dataset)\n",
    "    centroids = k_model.cluster_centers_\n",
    "\n",
    "    plt.rcParams.update({'font.size': 15})\n",
    "    ax.scatter(dataset.iloc[:,0], dataset.iloc[:,1], dataset.iloc[:,2], marker='o', c=y_pred)\n",
    "    ax.scatter(centroids[:,0], centroids[:,1], centroids[:,2], marker='x', s=200, linewidths=2)\n",
    "    ax.set_xlabel(dataset.columns.values[0] if xLabel==None else xLabel)\n",
    "    ax.set_ylabel(dataset.columns.values[1] if yLabel==None else yLabel)\n",
    "    ax.set_zlabel(dataset.columns.values[2] if zLabel==None else zLabel)\n",
    "    plt.title(title)\n",
    "    plt.show()"
   ]
  },
  {
   "cell_type": "code",
   "execution_count": null,
   "metadata": {
    "scrolled": true
   },
   "outputs": [],
   "source": [
    "def k_nn(dataset, target, label, title=\"K-Near Neighbor\", yLabel=None):\n",
    "    \"\"\"\n",
    "    Perform K-NN on the given dataset with a target and the given label for data.\n",
    "    \n",
    "    @param DataFrame dataset: dataframe of the data to perform K-NN on.\n",
    "    @param str target: what column is the target variable in the dataset.\n",
    "    @param str label: what column is the label in the dataset.\n",
    "    \"\"\"\n",
    "    df = dataset.drop([label], axis=1)               # get dataset without label\n",
    "    var = preprocessing.LabelEncoder()               # set var to hold \n",
    "    labelEncoder = var.fit_transform(dataset[label])\n",
    "    model = KNeighborsClassifier(n_neighbors = 3)\n",
    "    knn = KNeighborsClassifier(n_neighbors = 5)\n",
    "    \n",
    "    model.fit(dataset[[target]], labelEncoder)\n",
    "    predicted = model.predict([[0]])\n",
    "    xTrain, xTest, yTrain, yTest = train_test_split(df, dataset[label], test_size = 0.3, random_state=42)\n",
    "    knn.fit(xTrain, yTrain)\n",
    "    yPred = knn.predict(xTest)\n",
    "    \n",
    "    labels, counts = np.unique(yPred, return_counts=True)\n",
    "    percents = []\n",
    "    _sum = sum(counts)\n",
    "    for i in counts:\n",
    "        percents.append(i/_sum)\n",
    "\n",
    "    %matplotlib inline\n",
    "    plt.rcParams.update({'font.size': 20})\n",
    "    plt.pie(percents, labels=labels, autopct='%1.1f%%', color=['red', 'blue'])\n",
    "    plt.title(title)\n",
    "    plt.show()"
   ]
  },
  {
   "cell_type": "code",
   "execution_count": null,
   "metadata": {},
   "outputs": [],
   "source": [
    "def decision_tree(dataset, target, label, title=\"Decision Tree\"):\n",
    "    df = dataset.drop([label], axis=1)\n",
    "    var = tree.DecisionTreeClassifier()\n",
    "    var = var.fit(df[:13], df[target][:13])\n",
    "    \n",
    "    dot_data = tree.export_graphviz(var, out_file=None, \n",
    "                                    feature_names=df.columns,\n",
    "                                    class_names=dataset[label],  \n",
    "                                    filled=True, rounded=True,\n",
    "                                    special_characters=True)  \n",
    "    graph = graphviz.Source(dot_data)  \n",
    "    return graph"
   ]
  },
  {
   "cell_type": "code",
   "execution_count": null,
   "metadata": {},
   "outputs": [],
   "source": [
    "# decision_tree(kddDF[['src_bytes','count', 'Class']], \"src_bytes\", \"Class\", \"DoS\")"
   ]
  },
  {
   "cell_type": "code",
   "execution_count": null,
   "metadata": {
    "scrolled": true
   },
   "outputs": [],
   "source": [
    "def swarm_all(dataset, X, title = \"Swarm Plot\"):\n",
    "    df = dataset.drop([X], axis=1)\n",
    "    for i in df.columns:\n",
    "        plt.rcParams.update({'font.size': 20})\n",
    "        sns.swarmplot(x=X, y=i, data=dataset)\n",
    "        plt.title(title)\n",
    "        plt.show()"
   ]
  },
  {
   "cell_type": "code",
   "execution_count": null,
   "metadata": {
    "scrolled": true
   },
   "outputs": [],
   "source": [
    "def find_k_graph(kTests, data, title=\"Selecting K with the Elbow Method\"):\n",
    "    # k-means cluster analysis\n",
    "    clusters=range(1,kTests+1)\n",
    "    meandist=[]\n",
    "    \n",
    "    for k in clusters:\n",
    "        model=KMeans(n_clusters=k)\n",
    "        model.fit(data)\n",
    "        clusassign=model.predict(data)\n",
    "        meandist.append(sum(np.min(cdist(data, model.cluster_centers_, 'euclidean'), axis=1)) / data.shape[0])\n",
    "    # Identify number of clusters\n",
    "    %matplotlib inline\n",
    "    plt.rcParams.update({'font.size': 20})\n",
    "    plt.plot(clusters, meandist)\n",
    "    plt.xlabel('Number of clusters')\n",
    "    plt.ylabel('Average distance')\n",
    "    plt.title(title)\n",
    "    plt.show()"
   ]
  },
  {
   "cell_type": "markdown",
   "metadata": {},
   "source": [
    "# NSL-KDD Dataset"
   ]
  },
  {
   "cell_type": "markdown",
   "metadata": {},
   "source": [
    "<u><strong>Load NSL-KDD dataset<strong></u>"
   ]
  },
  {
   "cell_type": "code",
   "execution_count": 3,
   "metadata": {
    "scrolled": true
   },
   "outputs": [
    {
     "data": {
      "text/html": [
       "<div>\n",
       "<style scoped>\n",
       "    .dataframe tbody tr th:only-of-type {\n",
       "        vertical-align: middle;\n",
       "    }\n",
       "\n",
       "    .dataframe tbody tr th {\n",
       "        vertical-align: top;\n",
       "    }\n",
       "\n",
       "    .dataframe thead th {\n",
       "        text-align: right;\n",
       "    }\n",
       "</style>\n",
       "<table border=\"1\" class=\"dataframe\">\n",
       "  <thead>\n",
       "    <tr style=\"text-align: right;\">\n",
       "      <th></th>\n",
       "      <th>duration</th>\n",
       "      <th>protocol_type</th>\n",
       "      <th>service</th>\n",
       "      <th>flag</th>\n",
       "      <th>src_bytes</th>\n",
       "      <th>dst_bytes</th>\n",
       "      <th>land</th>\n",
       "      <th>wrong_fragment</th>\n",
       "      <th>urgent</th>\n",
       "      <th>hot</th>\n",
       "      <th>...</th>\n",
       "      <th>dst_host_srv_count</th>\n",
       "      <th>dst_host_same_srv_rate</th>\n",
       "      <th>dst_host_diff_srv_rate</th>\n",
       "      <th>dst_host_same_src_port_rate</th>\n",
       "      <th>dst_host_srv_diff_host_rate</th>\n",
       "      <th>dst_host_serror_rate</th>\n",
       "      <th>dst_host_srv_serror_rate</th>\n",
       "      <th>dst_host_rerror_rate</th>\n",
       "      <th>dst_host_srv_rerror_rate</th>\n",
       "      <th>Class</th>\n",
       "    </tr>\n",
       "  </thead>\n",
       "  <tbody>\n",
       "    <tr>\n",
       "      <th>0</th>\n",
       "      <td>0.0</td>\n",
       "      <td>b'tcp'</td>\n",
       "      <td>b'ftp_data'</td>\n",
       "      <td>b'SF'</td>\n",
       "      <td>491.0</td>\n",
       "      <td>0.0</td>\n",
       "      <td>b'0'</td>\n",
       "      <td>0.0</td>\n",
       "      <td>0.0</td>\n",
       "      <td>0.0</td>\n",
       "      <td>...</td>\n",
       "      <td>25.0</td>\n",
       "      <td>0.17</td>\n",
       "      <td>0.03</td>\n",
       "      <td>0.17</td>\n",
       "      <td>0.00</td>\n",
       "      <td>0.00</td>\n",
       "      <td>0.00</td>\n",
       "      <td>0.05</td>\n",
       "      <td>0.00</td>\n",
       "      <td>normal</td>\n",
       "    </tr>\n",
       "    <tr>\n",
       "      <th>1</th>\n",
       "      <td>0.0</td>\n",
       "      <td>b'udp'</td>\n",
       "      <td>b'other'</td>\n",
       "      <td>b'SF'</td>\n",
       "      <td>146.0</td>\n",
       "      <td>0.0</td>\n",
       "      <td>b'0'</td>\n",
       "      <td>0.0</td>\n",
       "      <td>0.0</td>\n",
       "      <td>0.0</td>\n",
       "      <td>...</td>\n",
       "      <td>1.0</td>\n",
       "      <td>0.00</td>\n",
       "      <td>0.60</td>\n",
       "      <td>0.88</td>\n",
       "      <td>0.00</td>\n",
       "      <td>0.00</td>\n",
       "      <td>0.00</td>\n",
       "      <td>0.00</td>\n",
       "      <td>0.00</td>\n",
       "      <td>normal</td>\n",
       "    </tr>\n",
       "    <tr>\n",
       "      <th>2</th>\n",
       "      <td>0.0</td>\n",
       "      <td>b'tcp'</td>\n",
       "      <td>b'private'</td>\n",
       "      <td>b'S0'</td>\n",
       "      <td>0.0</td>\n",
       "      <td>0.0</td>\n",
       "      <td>b'0'</td>\n",
       "      <td>0.0</td>\n",
       "      <td>0.0</td>\n",
       "      <td>0.0</td>\n",
       "      <td>...</td>\n",
       "      <td>26.0</td>\n",
       "      <td>0.10</td>\n",
       "      <td>0.05</td>\n",
       "      <td>0.00</td>\n",
       "      <td>0.00</td>\n",
       "      <td>1.00</td>\n",
       "      <td>1.00</td>\n",
       "      <td>0.00</td>\n",
       "      <td>0.00</td>\n",
       "      <td>anomaly</td>\n",
       "    </tr>\n",
       "    <tr>\n",
       "      <th>3</th>\n",
       "      <td>0.0</td>\n",
       "      <td>b'tcp'</td>\n",
       "      <td>b'http'</td>\n",
       "      <td>b'SF'</td>\n",
       "      <td>232.0</td>\n",
       "      <td>8153.0</td>\n",
       "      <td>b'0'</td>\n",
       "      <td>0.0</td>\n",
       "      <td>0.0</td>\n",
       "      <td>0.0</td>\n",
       "      <td>...</td>\n",
       "      <td>255.0</td>\n",
       "      <td>1.00</td>\n",
       "      <td>0.00</td>\n",
       "      <td>0.03</td>\n",
       "      <td>0.04</td>\n",
       "      <td>0.03</td>\n",
       "      <td>0.01</td>\n",
       "      <td>0.00</td>\n",
       "      <td>0.01</td>\n",
       "      <td>normal</td>\n",
       "    </tr>\n",
       "    <tr>\n",
       "      <th>4</th>\n",
       "      <td>0.0</td>\n",
       "      <td>b'tcp'</td>\n",
       "      <td>b'http'</td>\n",
       "      <td>b'SF'</td>\n",
       "      <td>199.0</td>\n",
       "      <td>420.0</td>\n",
       "      <td>b'0'</td>\n",
       "      <td>0.0</td>\n",
       "      <td>0.0</td>\n",
       "      <td>0.0</td>\n",
       "      <td>...</td>\n",
       "      <td>255.0</td>\n",
       "      <td>1.00</td>\n",
       "      <td>0.00</td>\n",
       "      <td>0.00</td>\n",
       "      <td>0.00</td>\n",
       "      <td>0.00</td>\n",
       "      <td>0.00</td>\n",
       "      <td>0.00</td>\n",
       "      <td>0.00</td>\n",
       "      <td>normal</td>\n",
       "    </tr>\n",
       "  </tbody>\n",
       "</table>\n",
       "<p>5 rows × 42 columns</p>\n",
       "</div>"
      ],
      "text/plain": [
       "   duration protocol_type      service   flag  src_bytes  dst_bytes  land  \\\n",
       "0       0.0        b'tcp'  b'ftp_data'  b'SF'      491.0        0.0  b'0'   \n",
       "1       0.0        b'udp'     b'other'  b'SF'      146.0        0.0  b'0'   \n",
       "2       0.0        b'tcp'   b'private'  b'S0'        0.0        0.0  b'0'   \n",
       "3       0.0        b'tcp'      b'http'  b'SF'      232.0     8153.0  b'0'   \n",
       "4       0.0        b'tcp'      b'http'  b'SF'      199.0      420.0  b'0'   \n",
       "\n",
       "   wrong_fragment  urgent  hot   ...     dst_host_srv_count  \\\n",
       "0             0.0     0.0  0.0   ...                   25.0   \n",
       "1             0.0     0.0  0.0   ...                    1.0   \n",
       "2             0.0     0.0  0.0   ...                   26.0   \n",
       "3             0.0     0.0  0.0   ...                  255.0   \n",
       "4             0.0     0.0  0.0   ...                  255.0   \n",
       "\n",
       "   dst_host_same_srv_rate  dst_host_diff_srv_rate  \\\n",
       "0                    0.17                    0.03   \n",
       "1                    0.00                    0.60   \n",
       "2                    0.10                    0.05   \n",
       "3                    1.00                    0.00   \n",
       "4                    1.00                    0.00   \n",
       "\n",
       "   dst_host_same_src_port_rate  dst_host_srv_diff_host_rate  \\\n",
       "0                         0.17                         0.00   \n",
       "1                         0.88                         0.00   \n",
       "2                         0.00                         0.00   \n",
       "3                         0.03                         0.04   \n",
       "4                         0.00                         0.00   \n",
       "\n",
       "   dst_host_serror_rate  dst_host_srv_serror_rate  dst_host_rerror_rate  \\\n",
       "0                  0.00                      0.00                  0.05   \n",
       "1                  0.00                      0.00                  0.00   \n",
       "2                  1.00                      1.00                  0.00   \n",
       "3                  0.03                      0.01                  0.00   \n",
       "4                  0.00                      0.00                  0.00   \n",
       "\n",
       "   dst_host_srv_rerror_rate    Class  \n",
       "0                      0.00   normal  \n",
       "1                      0.00   normal  \n",
       "2                      0.00  anomaly  \n",
       "3                      0.01   normal  \n",
       "4                      0.00   normal  \n",
       "\n",
       "[5 rows x 42 columns]"
      ]
     },
     "execution_count": 3,
     "metadata": {},
     "output_type": "execute_result"
    }
   ],
   "source": [
    "kddFile = arff.loadarff('KDDTrain+.arff')\n",
    "kddDF = pd.DataFrame(kddFile[0])\n",
    "kddDF = kddDF.assign(Class=kddDF['class'].apply(lambda x: x.decode('utf-8')))\n",
    "kddDF = kddDF.drop(['class'], axis=1)\n",
    "kddDF = kddDF.assign(logged_in=kddDF['logged_in'].apply(lambda x: float(x.decode('utf-8'))))\n",
    "kddDF.head()"
   ]
  },
  {
   "cell_type": "code",
   "execution_count": null,
   "metadata": {
    "scrolled": true
   },
   "outputs": [],
   "source": [
    "kddDF.describe()"
   ]
  },
  {
   "cell_type": "code",
   "execution_count": null,
   "metadata": {},
   "outputs": [],
   "source": [
    "kddDF.shape"
   ]
  },
  {
   "cell_type": "markdown",
   "metadata": {},
   "source": [
    "<u><strong>Finding K<strong></u>"
   ]
  },
  {
   "cell_type": "code",
   "execution_count": null,
   "metadata": {
    "scrolled": false
   },
   "outputs": [],
   "source": [
    "find_k_graph(10, kddDF[['src_bytes', 'count']], \"DoS\")\n",
    "find_k_graph(10, kddDF[['duration','src_bytes']], \"Probing\")\n",
    "find_k_graph(10, kddDF[['num_file_creations', 'num_shells']], \"U2R\")\n",
    "find_k_graph(10, kddDF[['duration', 'num_failed_logins']], \"R2L\")"
   ]
  },
  {
   "cell_type": "markdown",
   "metadata": {},
   "source": [
    "<u><strong>Performing K-mean<strong></u>"
   ]
  },
  {
   "cell_type": "code",
   "execution_count": 4,
   "metadata": {
    "scrolled": false
   },
   "outputs": [
    {
     "name": "stdout",
     "output_type": "stream",
     "text": [
      "[11876.36969704    84.11040899]\n",
      "[5.65551131e+08 1.96666667e+01]\n",
      "[1.27374169e+09 1.00000000e+00]\n"
     ]
    },
    {
     "data": {
      "image/png": "[encoded data removed]",
      "text/plain": [
       "<Figure size 432x288 with 1 Axes>"
      ]
     },
     "metadata": {
      "needs_background": "light"
     },
     "output_type": "display_data"
    }
   ],
   "source": [
    "k_mean(3, kddDF[['src_bytes','count']], \"DoS\")"
   ]
  },
  {
   "cell_type": "code",
   "execution_count": null,
   "metadata": {
    "scrolled": false
   },
   "outputs": [],
   "source": [
    "k_mean3D(3, kddDF[[\"count\", \"src_bytes\", \"duration\"]], \"DoS\")"
   ]
  },
  {
   "cell_type": "code",
   "execution_count": null,
   "metadata": {
    "scrolled": false
   },
   "outputs": [],
   "source": [
    "k_mean(3, kddDF[[\"duration\",\"src_bytes\"]], \"Probing\", \"Duration (s)\")"
   ]
  },
  {
   "cell_type": "code",
   "execution_count": null,
   "metadata": {
    "scrolled": false
   },
   "outputs": [],
   "source": [
    "k_mean(3, kddDF[['num_file_creations', 'num_shells']], \"U2R\")"
   ]
  },
  {
   "cell_type": "code",
   "execution_count": null,
   "metadata": {},
   "outputs": [],
   "source": [
    "k_mean3D(3,  kddDF[['num_file_creations', 'num_shells', 'duration']], \"U2R\", zLabel='Duration (s)')"
   ]
  },
  {
   "cell_type": "code",
   "execution_count": null,
   "metadata": {},
   "outputs": [],
   "source": [
    "k_mean(3, kddDF[['duration', 'num_failed_logins']], \"R2L\", \"Duration (s)\")"
   ]
  },
  {
   "cell_type": "markdown",
   "metadata": {},
   "source": [
    "<u><strong>Performing K-NN</strong></u>"
   ]
  },
  {
   "cell_type": "code",
   "execution_count": null,
   "metadata": {
    "scrolled": false
   },
   "outputs": [],
   "source": [
    "k_nn(kddDF[['src_bytes','count', 'Class']], \"src_bytes\", \"Class\", \"DoS\")"
   ]
  },
  {
   "cell_type": "code",
   "execution_count": null,
   "metadata": {
    "scrolled": true
   },
   "outputs": [],
   "source": [
    "k_nn(kddDF[[\"duration\",\"src_bytes\", 'Class']], \"src_bytes\", \"Class\", \"Probing\")"
   ]
  },
  {
   "cell_type": "code",
   "execution_count": null,
   "metadata": {
    "scrolled": true
   },
   "outputs": [],
   "source": [
    "k_nn(kddDF[['num_file_creations', 'num_shells', 'Class']], \"num_shells\", \"Class\", \"U2R\")"
   ]
  },
  {
   "cell_type": "code",
   "execution_count": null,
   "metadata": {
    "scrolled": true
   },
   "outputs": [],
   "source": [
    "k_nn(kddDF[['duration', 'num_failed_logins', 'Class']], \"num_failed_logins\", \"Class\", \"R2L\")"
   ]
  },
  {
   "cell_type": "markdown",
   "metadata": {},
   "source": [
    "<u><strong>Swarm Plot</strong></u>"
   ]
  },
  {
   "cell_type": "code",
   "execution_count": null,
   "metadata": {
    "scrolled": true
   },
   "outputs": [],
   "source": [
    "swarm_all(kddDF[['duration','Class']][:500], \"Class\", \"Swarm plot of duration\")"
   ]
  },
  {
   "cell_type": "markdown",
   "metadata": {},
   "source": [
    "# CIDDS Dataset"
   ]
  },
  {
   "cell_type": "markdown",
   "metadata": {},
   "source": [
    "<u><strong>Load CIDDS Dataset</strong></u>"
   ]
  },
  {
   "cell_type": "code",
   "execution_count": null,
   "metadata": {
    "scrolled": true
   },
   "outputs": [],
   "source": [
    "ciddsDF = pd.read_csv(\"CIDDS-001-internal-week1.csv\", low_memory=False)\n",
    "ciddsDF.head()"
   ]
  },
  {
   "cell_type": "code",
   "execution_count": null,
   "metadata": {
    "scrolled": true
   },
   "outputs": [],
   "source": [
    "feats = [\"Src Pt\", \"Dst Pt\", \"Packets\", \"Flows\"]"
   ]
  },
  {
   "cell_type": "markdown",
   "metadata": {},
   "source": [
    "<u><strong>Finding K</strong></u>"
   ]
  },
  {
   "cell_type": "code",
   "execution_count": null,
   "metadata": {
    "scrolled": true
   },
   "outputs": [],
   "source": [
    "find_k_graph(5, ciddsDF[[\"Src Pt\", \"Packets\"]])"
   ]
  },
  {
   "cell_type": "markdown",
   "metadata": {},
   "source": [
    "<u><strong>Performing K-mean</strong></u>"
   ]
  },
  {
   "cell_type": "code",
   "execution_count": null,
   "metadata": {
    "scrolled": true
   },
   "outputs": [],
   "source": [
    "k_mean(2, ciddsDF[[\"Src Pt\", \"Packets\"]], \"DoS\")"
   ]
  },
  {
   "cell_type": "code",
   "execution_count": null,
   "metadata": {},
   "outputs": [],
   "source": [
    "# k_mean(4, ciddsDF[[\"Src Pt\", \"Packets\"]], \"K-Mean cluster on CIDDS Dataset\")"
   ]
  },
  {
   "cell_type": "code",
   "execution_count": null,
   "metadata": {},
   "outputs": [],
   "source": [
    "k_nn(ciddsDF[['Src Pt','Packets', 'class']], \"Src Pt\", \"Class\", \"DoS\")"
   ]
  },
  {
   "cell_type": "code",
   "execution_count": null,
   "metadata": {
    "scrolled": true
   },
   "outputs": [],
   "source": [
    "swarm_all(ciddsDF[['duration', 'Src Pt', 'Dest Pt', 'Packets', 'Bytes', 'Flows', 'Tos' 'class']][:500], \"Class\", \"Swarm plot of duration\")"
   ]
  }
 ],
 "metadata": {
  "kernelspec": {
   "display_name": "Python 3",
   "language": "python",
   "name": "python3"
  },
  "language_info": {
   "codemirror_mode": {
    "name": "ipython",
    "version": 3
   },
   "file_extension": ".py",
   "mimetype": "text/x-python",
   "name": "python",
   "nbconvert_exporter": "python",
   "pygments_lexer": "ipython3",
   "version": "3.7.1"
  }
 },
 "nbformat": 4,
 "nbformat_minor": 2
}
